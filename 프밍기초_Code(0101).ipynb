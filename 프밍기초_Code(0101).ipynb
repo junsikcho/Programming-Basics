공부해보자
{
  "nbformat": 4,
  "nbformat_minor": 0,
  "metadata": {
    "colab": {
      "provenance": [],
      "name": "프밍기초_Code(0101).ipynb",
      "authorship_tag": "ABX9TyMRfEtaVXorh7XP92Hl6GWk",
      "include_colab_link": true
    },
    "kernelspec": {
      "name": "python3",
      "display_name": "Python 3"
    },
    "language_info": {
      "name": "python"
    }
  },
  "cells": [
    {
      "cell_type": "markdown",
      "metadata": {
        "id": "view-in-github",
        "colab_type": "text"
      },
      "source": [
        "<a href=\"https://colab.research.google.com/github/junsikcho/Penguin/blob/main/%ED%94%84%EB%B0%8D%EA%B8%B0%EC%B4%88_Code(0101).ipynb\" target=\"_parent\"><img src=\"https://colab.research.google.com/assets/colab-badge.svg\" alt=\"Open In Colab\"/></a>"
      ]
    },
    {
      "cell_type": "markdown",
      "source": [
        "# 프로그래밍 언어의 개념\n",
        "1) 프로그래밍 언어 : 컴퓨터가 이해하는 말로 컴퓨터에서 작동하는 소프트웨어(엑셀, 한글, 인터넷 익스플로러 등)를 만드는 도구\\\n",
        "2) 프로그래머 : 프로그래밍 언어를 사용해 소프트웨어나 앱을 만드는 사람임"
      ],
      "metadata": {
        "id": "FNHrhKsS5o_n"
      }
    },
    {
      "cell_type": "markdown",
      "source": [
        "# 파이썬의 역사\n",
        "1) 배우기도 쉽고 결과도 바로 확인할 수 있어 초보자에게 적합한 프로그래밍 언어\\\n",
        "2) 귀도 반 로섬(1956~)이라는 프로게이머가 C언어로 제작해 1991년에 공식으로 발표\\\n",
        "3) 파이썬의 사전적 의미는 비단뱀으로 로고도 파란색과 노란색 비단뱀 두 마리가 서로 얽혀 있는 상태"
      ],
      "metadata": {
        "id": "eadbAbDT6JB3"
      }
    },
    {
      "cell_type": "markdown",
      "source": [
        "# 파이썬의 특징\n",
        "1) 강력한 기능을 무료로 사용할 수 있음\n",
        "- 파이썬은 오픈 소스이며, 비용을 지불하지 않고 무료로 사용 가능하며, 다양한 추가 라이브러리도 무료로 사용 가능\n",
        "\n",
        "2) 읽기 쉽고 사용하기 쉬움\n",
        "- 직관적인 코드를 사용해 C나 자바 같은 언어보다 읽기 쉬워 프로그램을 빨리 제작할 수 있어 비용 절감 효과 제공\n",
        "\n",
        "3) 사물인터넷과 연동 잘 됨\n",
        "- 라즈베리파이 기반의 사물인터넷이 파이썬을 잘 지원하므로 사물인터넷 개발 및 운영에 적극 활용\\\n",
        "\n",
        "4) 다양하고 강력한 외부 라이브러리들이 풍부함\n",
        "- 파이썬에서 제공하는 라이브러리뿐 안이라, 외부에서 제공하는 다양한 서드 파티(Third Party) 라이브러리까지 사용 가능\\\n",
        "\n",
        "5) 강력한 웹 프레임워크를 사용할 수 있음\n",
        "- 파이썬의 웹 프레임워크를 사용해 강력하고 빠른 웹 환경을 구축 가능"
      ],
      "metadata": {
        "id": "VKbIFyuA6eTM"
      }
    },
    {
      "cell_type": "markdown",
      "source": [
        "# 파이썬의 단점\n",
        "1) 느린 속도\n",
        "- 파이썬은 컴파일러 언어가 아닌 스크립트 언어이기 때문에 컴파일러 언어보다 느림\n",
        "\n",
        "2) 약한 지원 및 사용의 어려움\n",
        "- 모바일 컴퓨팅 분야에 지원이 약하고 하드웨어 제어 등과 관련된 부분 사용이 어려움"
      ],
      "metadata": {
        "id": "Y0hzQspK7ZOZ"
      }
    },
    {
      "cell_type": "markdown",
      "source": [
        "# 컴파일러 언어 vs 스크립트 언어\n",
        "1) 컴파일러 언어\n",
        "- 소스코드 -> 기계어로 번역(컴파일) -> 실행파일(.exe, .class)로 실행\\\n",
        "예) C/C++, Java 등\\\n",
        "장점) 실행 속도가 빠름\n",
        "\n",
        "2) 스크립트 언어\n",
        "- 소스코드 -> 한 줄씩 읽고 실행\n",
        "- 처리프로그램을 인터프리터(Interpreter)라고 함.\\\n",
        "예) 파이썬, 자바스크립트, 펄(Perl) 등\n",
        "- 장점) 짧은 시간에 배울 수 있음"
      ],
      "metadata": {
        "id": "kYxrGY0y7sbg"
      }
    },
    {
      "cell_type": "code",
      "source": [
        "# 예제 1\n",
        "print(\"Hello, world!\")"
      ],
      "metadata": {
        "colab": {
          "base_uri": "https://localhost:8080/"
        },
        "id": "sTgV95Pv8dm4",
        "outputId": "35b50882-b9dc-423e-c912-949dd359f7d1"
      },
      "execution_count": null,
      "outputs": [
        {
          "output_type": "stream",
          "name": "stdout",
          "text": [
            "Hello, world!\n"
          ]
        }
      ]
    },
    {
      "cell_type": "code",
      "source": [
        "# 예제 2\n",
        "10 + 20"
      ],
      "metadata": {
        "colab": {
          "base_uri": "https://localhost:8080/"
        },
        "id": "ya7IcitD8z5p",
        "outputId": "de609bb4-4a8a-4b04-fb8d-8bb8a1f3fa19"
      },
      "execution_count": null,
      "outputs": [
        {
          "output_type": "execute_result",
          "data": {
            "text/plain": [
              "30"
            ]
          },
          "metadata": {},
          "execution_count": 2
        }
      ]
    },
    {
      "cell_type": "code",
      "source": [
        "# 예제 3\n",
        "9876 * 27 - 32767"
      ],
      "metadata": {
        "colab": {
          "base_uri": "https://localhost:8080/"
        },
        "id": "W7IMuPX6863j",
        "outputId": "6dbb0278-2712-42d0-b7b2-06ca1afb9821"
      },
      "execution_count": null,
      "outputs": [
        {
          "output_type": "execute_result",
          "data": {
            "text/plain": [
              "233885"
            ]
          },
          "metadata": {},
          "execution_count": 3
        }
      ]
    },
    {
      "cell_type": "code",
      "source": [
        "# 연습문제 1\n",
        "print(\"아... 파이썬 너무 재미있어요^^\")"
      ],
      "metadata": {
        "colab": {
          "base_uri": "https://localhost:8080/"
        },
        "id": "Ng6v5drq89-Z",
        "outputId": "876eb1d7-9494-42ab-d670-c01d059aa867"
      },
      "execution_count": null,
      "outputs": [
        {
          "output_type": "stream",
          "name": "stdout",
          "text": [
            "아... 파이썬 너무 재미있어요^^\n"
          ]
        }
      ]
    },
    {
      "cell_type": "code",
      "source": [
        "# 연습문제 2\n",
        "print(\"11+22-33\")\n",
        "print(\"안녕? 파이썬\")"
      ],
      "metadata": {
        "colab": {
          "base_uri": "https://localhost:8080/"
        },
        "id": "6jSvAZO_9FKK",
        "outputId": "e98f4145-181d-4b5f-9f13-8abd0bf1d1b6"
      },
      "execution_count": null,
      "outputs": [
        {
          "output_type": "stream",
          "name": "stdout",
          "text": [
            "11+22-33\n",
            "안녕? 파이썬\n"
          ]
        }
      ]
    }
  ]
}
